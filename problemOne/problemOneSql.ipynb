{
 "cells": [
  {
   "cell_type": "code",
   "execution_count": 3,
   "metadata": {},
   "outputs": [],
   "source": [
    "# import packages\n",
    "\n",
    "import sqlite3\n",
    "import pandas as pd"
   ]
  },
  {
   "cell_type": "code",
   "execution_count": 4,
   "metadata": {},
   "outputs": [],
   "source": [
    "conn = sqlite3.connect('../mock_resq.db')\n",
    "cursor = conn.cursor()"
   ]
  },
  {
   "cell_type": "code",
   "execution_count": 6,
   "metadata": {},
   "outputs": [],
   "source": [
    "createViewQuery = \"\"\"\n",
    "CREATE view presentation_table AS\n",
    "SELECT orders.*, strftime('%Y-%m', createdAt) AS month, strftime('%Y', users.registeredDate) AS registeredYear, providers.defaultOfferType \n",
    "FROM orders INNER JOIN users ON orders.userId = users.id INNER JOIN providers ON orders.providerId = providers.id; \n",
    "\"\"\""
   ]
  },
  {
   "cell_type": "code",
   "execution_count": 7,
   "metadata": {},
   "outputs": [
    {
     "data": {
      "text/plain": [
       "<sqlite3.Cursor at 0x1170a76c0>"
      ]
     },
     "execution_count": 7,
     "metadata": {},
     "output_type": "execute_result"
    }
   ],
   "source": [
    "cursor.executescript(createViewQuery)"
   ]
  },
  {
   "cell_type": "code",
   "execution_count": 8,
   "metadata": {},
   "outputs": [],
   "source": [
    "results = cursor.fetchall()"
   ]
  },
  {
   "cell_type": "code",
   "execution_count": 10,
   "metadata": {},
   "outputs": [],
   "source": [
    "conn.commit()\n",
    "conn.close()"
   ]
  },
  {
   "cell_type": "code",
   "execution_count": 12,
   "metadata": {},
   "outputs": [],
   "source": [
    "conn = sqlite3.connect('../mock_resq.db')\n",
    "cursor = conn.cursor()"
   ]
  },
  {
   "cell_type": "code",
   "execution_count": 13,
   "metadata": {},
   "outputs": [],
   "source": [
    "query_presentation_table = \"SELECT * FROM presentation_table\"\n",
    "presentation_table = pd.read_sql_query(query_presentation_table, conn)"
   ]
  },
  {
   "cell_type": "code",
   "execution_count": 14,
   "metadata": {},
   "outputs": [
    {
     "data": {
      "text/html": [
       "<div>\n",
       "<style scoped>\n",
       "    .dataframe tbody tr th:only-of-type {\n",
       "        vertical-align: middle;\n",
       "    }\n",
       "\n",
       "    .dataframe tbody tr th {\n",
       "        vertical-align: top;\n",
       "    }\n",
       "\n",
       "    .dataframe thead th {\n",
       "        text-align: right;\n",
       "    }\n",
       "</style>\n",
       "<table border=\"1\" class=\"dataframe\">\n",
       "  <thead>\n",
       "    <tr style=\"text-align: right;\">\n",
       "      <th></th>\n",
       "      <th>id</th>\n",
       "      <th>createdAt</th>\n",
       "      <th>userId</th>\n",
       "      <th>quantity</th>\n",
       "      <th>refunded</th>\n",
       "      <th>currency</th>\n",
       "      <th>sales</th>\n",
       "      <th>providerId</th>\n",
       "      <th>month</th>\n",
       "      <th>registeredYear</th>\n",
       "      <th>defaultOfferType</th>\n",
       "    </tr>\n",
       "  </thead>\n",
       "  <tbody>\n",
       "    <tr>\n",
       "      <th>0</th>\n",
       "      <td>4648711062057701806</td>\n",
       "      <td>2023-08-31 10:14:49</td>\n",
       "      <td>833181563296211638</td>\n",
       "      <td>2</td>\n",
       "      <td>0</td>\n",
       "      <td>eur</td>\n",
       "      <td>1000</td>\n",
       "      <td>3518867990385707647</td>\n",
       "      <td>2023-08</td>\n",
       "      <td>2019</td>\n",
       "      <td>meal</td>\n",
       "    </tr>\n",
       "    <tr>\n",
       "      <th>1</th>\n",
       "      <td>1676056141507951956</td>\n",
       "      <td>2023-03-21 17:04:54</td>\n",
       "      <td>7763311846463275691</td>\n",
       "      <td>1</td>\n",
       "      <td>0</td>\n",
       "      <td>eur</td>\n",
       "      <td>400</td>\n",
       "      <td>6413422964860176913</td>\n",
       "      <td>2023-03</td>\n",
       "      <td>2020</td>\n",
       "      <td>meal</td>\n",
       "    </tr>\n",
       "    <tr>\n",
       "      <th>2</th>\n",
       "      <td>7745602867536251060</td>\n",
       "      <td>2023-07-19 09:48:28</td>\n",
       "      <td>8919282109171104948</td>\n",
       "      <td>2</td>\n",
       "      <td>0</td>\n",
       "      <td>eur</td>\n",
       "      <td>680</td>\n",
       "      <td>123356649204044788</td>\n",
       "      <td>2023-07</td>\n",
       "      <td>2021</td>\n",
       "      <td>snack</td>\n",
       "    </tr>\n",
       "    <tr>\n",
       "      <th>3</th>\n",
       "      <td>7319989469562109720</td>\n",
       "      <td>2023-08-10 12:29:01</td>\n",
       "      <td>5785370845306063462</td>\n",
       "      <td>1</td>\n",
       "      <td>0</td>\n",
       "      <td>eur</td>\n",
       "      <td>1099</td>\n",
       "      <td>7268869293921836511</td>\n",
       "      <td>2023-08</td>\n",
       "      <td>2020</td>\n",
       "      <td>meal</td>\n",
       "    </tr>\n",
       "    <tr>\n",
       "      <th>4</th>\n",
       "      <td>8979946097528312402</td>\n",
       "      <td>2022-10-03 09:55:15</td>\n",
       "      <td>8918527236425591239</td>\n",
       "      <td>1</td>\n",
       "      <td>0</td>\n",
       "      <td>eur</td>\n",
       "      <td>200</td>\n",
       "      <td>7530970657789428790</td>\n",
       "      <td>2022-10</td>\n",
       "      <td>2018</td>\n",
       "      <td>snack</td>\n",
       "    </tr>\n",
       "  </tbody>\n",
       "</table>\n",
       "</div>"
      ],
      "text/plain": [
       "                    id            createdAt               userId quantity  \\\n",
       "0  4648711062057701806  2023-08-31 10:14:49   833181563296211638        2   \n",
       "1  1676056141507951956  2023-03-21 17:04:54  7763311846463275691        1   \n",
       "2  7745602867536251060  2023-07-19 09:48:28  8919282109171104948        2   \n",
       "3  7319989469562109720  2023-08-10 12:29:01  5785370845306063462        1   \n",
       "4  8979946097528312402  2022-10-03 09:55:15  8918527236425591239        1   \n",
       "\n",
       "  refunded currency sales           providerId    month registeredYear  \\\n",
       "0        0      eur  1000  3518867990385707647  2023-08           2019   \n",
       "1        0      eur   400  6413422964860176913  2023-03           2020   \n",
       "2        0      eur   680   123356649204044788  2023-07           2021   \n",
       "3        0      eur  1099  7268869293921836511  2023-08           2020   \n",
       "4        0      eur   200  7530970657789428790  2022-10           2018   \n",
       "\n",
       "  defaultOfferType  \n",
       "0             meal  \n",
       "1             meal  \n",
       "2            snack  \n",
       "3             meal  \n",
       "4            snack  "
      ]
     },
     "execution_count": 14,
     "metadata": {},
     "output_type": "execute_result"
    }
   ],
   "source": [
    "presentation_table.head()"
   ]
  },
  {
   "cell_type": "code",
   "execution_count": null,
   "metadata": {},
   "outputs": [],
   "source": []
  }
 ],
 "metadata": {
  "kernelspec": {
   "display_name": ".venv",
   "language": "python",
   "name": "python3"
  },
  "language_info": {
   "codemirror_mode": {
    "name": "ipython",
    "version": 3
   },
   "file_extension": ".py",
   "mimetype": "text/x-python",
   "name": "python",
   "nbconvert_exporter": "python",
   "pygments_lexer": "ipython3",
   "version": "3.12.0"
  }
 },
 "nbformat": 4,
 "nbformat_minor": 2
}
