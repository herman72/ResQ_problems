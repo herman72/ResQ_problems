{
 "cells": [
  {
   "cell_type": "code",
   "execution_count": 1,
   "metadata": {},
   "outputs": [],
   "source": [
    "# Import packages\n",
    "\n",
    "import sqlite3\n",
    "import requests\n",
    "import pandas as pd"
   ]
  },
  {
   "cell_type": "code",
   "execution_count": 2,
   "metadata": {},
   "outputs": [],
   "source": [
    "# connect to database \n",
    "conn = sqlite3.connect('./mock_resq.db')\n",
    "cursor = conn.cursor()"
   ]
  },
  {
   "cell_type": "code",
   "execution_count": 3,
   "metadata": {},
   "outputs": [],
   "source": [
    "# Execute SQL query to fetch unique years from the createdAt column\n",
    "cursor.execute(\"SELECT DISTINCT strftime('%Y', CreatedAt) AS Year FROM orders\")\n",
    "\n",
    "# Fetch the results\n",
    "unique_years = cursor.fetchall()"
   ]
  },
  {
   "cell_type": "code",
   "execution_count": 5,
   "metadata": {},
   "outputs": [],
   "source": [
    "\"\"\"\n",
    "This function retun holidays of the year by getting them from date.nager.at api\n",
    "input:\n",
    "    year as string like: '2022'\n",
    "return:\n",
    "    list of holiday days:\n",
    "    ['2023-01-01', '2023-01-06', '2023-04-07']\n",
    "\"\"\"\n",
    "\n",
    "def get_holidays(year):\n",
    "    response = requests.get(f'https://date.nager.at/api/v3/publicholidays/{year}/fi')\n",
    "    if response.status_code == 200:\n",
    "        holidays_data = response.json()\n",
    "        return [holiday['date'] for holiday in holidays_data]\n",
    "    else:\n",
    "        raise 'site not response'"
   ]
  },
  {
   "cell_type": "code",
   "execution_count": 6,
   "metadata": {},
   "outputs": [],
   "source": [
    "\"\"\"\n",
    "This function creates a DataFrame that contains holiday dates for each year in the input list.\n",
    "\n",
    "Args:\n",
    "    unique_years (list): A list of unique years for which to get holiday dates.\n",
    "\n",
    "Returns:\n",
    "    all_holiday_dates (DataFrame): A DataFrame containing all holiday dates for the given years.\n",
    "\"\"\"\n",
    "\n",
    "def create_holiday_date(unique_years):\n",
    "    # Get the number of unique years\n",
    "    n = len(unique_years)\n",
    "    \n",
    "    # Initialize an empty DataFrame to store all holiday dates\n",
    "    all_holiday_dates = pd.DataFrame()\n",
    "    \n",
    "    # Loop over each unique year\n",
    "    for i in range(n):\n",
    "        # Get the holiday dates for the current year\n",
    "        holiday_dates = get_holidays(unique_years[i][0])\n",
    "        \n",
    "        # Create a DataFrame for the current year's holiday dates\n",
    "        year_holiday_dates = pd.DataFrame({'holyDate': holiday_dates})\n",
    "        \n",
    "        # Concatenate the current year's holiday dates to the DataFrame of all holiday dates\n",
    "        all_holiday_dates = pd.concat([all_holiday_dates, year_holiday_dates])\n",
    "        \n",
    "    # Return the DataFrame of all holiday dates\n",
    "    all_holiday_dates.to_csv(\"all_holiday_dates.csv\")\n",
    "    return all_holiday_dates\n"
   ]
  },
  {
   "cell_type": "code",
   "execution_count": null,
   "metadata": {},
   "outputs": [],
   "source": []
  }
 ],
 "metadata": {
  "kernelspec": {
   "display_name": ".venv",
   "language": "python",
   "name": "python3"
  },
  "language_info": {
   "codemirror_mode": {
    "name": "ipython",
    "version": 3
   },
   "file_extension": ".py",
   "mimetype": "text/x-python",
   "name": "python",
   "nbconvert_exporter": "python",
   "pygments_lexer": "ipython3",
   "version": "3.12.0"
  }
 },
 "nbformat": 4,
 "nbformat_minor": 2
}
