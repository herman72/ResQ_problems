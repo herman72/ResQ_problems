{
 "cells": [
  {
   "cell_type": "code",
   "execution_count": 3,
   "metadata": {},
   "outputs": [],
   "source": [
    "# Import packages\n",
    "\n",
    "import sqlite3\n",
    "import requests\n",
    "import pandas as pd"
   ]
  },
  {
   "cell_type": "code",
   "execution_count": 4,
   "metadata": {},
   "outputs": [],
   "source": [
    "\"\"\"\n",
    "This function retun holidays of the year by getting them from date.nager.at api\n",
    "input:\n",
    "    year as string like: '2022'\n",
    "return:\n",
    "    list of holiday days:\n",
    "    ['2023-01-01', '2023-01-06', '2023-04-07']\n",
    "\"\"\"\n",
    "\n",
    "def get_holidays(year):\n",
    "    response = requests.get(f'https://date.nager.at/api/v3/publicholidays/{year}/fi')\n",
    "    if response.status_code == 200:\n",
    "        holidays_data = response.json()\n",
    "        return [holiday['date'] for holiday in holidays_data]\n",
    "    else:\n",
    "        raise 'site not response'"
   ]
  },
  {
   "cell_type": "code",
   "execution_count": 5,
   "metadata": {},
   "outputs": [],
   "source": [
    "holiday_dates_2022 = get_holidays(2022)\n",
    "holiday_dates_2023 = get_holidays(2023)"
   ]
  },
  {
   "cell_type": "code",
   "execution_count": 7,
   "metadata": {},
   "outputs": [
    {
     "data": {
      "text/plain": [
       "['2023-01-01',\n",
       " '2023-01-06',\n",
       " '2023-04-07',\n",
       " '2023-04-09',\n",
       " '2023-04-10',\n",
       " '2023-05-01',\n",
       " '2023-05-18',\n",
       " '2023-05-28',\n",
       " '2023-06-23',\n",
       " '2023-06-24',\n",
       " '2023-11-04',\n",
       " '2023-12-06',\n",
       " '2023-12-24',\n",
       " '2023-12-25',\n",
       " '2023-12-26']"
      ]
     },
     "execution_count": 7,
     "metadata": {},
     "output_type": "execute_result"
    }
   ],
   "source": [
    "holiday_dates_2023"
   ]
  },
  {
   "cell_type": "code",
   "execution_count": null,
   "metadata": {},
   "outputs": [],
   "source": []
  }
 ],
 "metadata": {
  "kernelspec": {
   "display_name": ".venv",
   "language": "python",
   "name": "python3"
  },
  "language_info": {
   "codemirror_mode": {
    "name": "ipython",
    "version": 3
   },
   "file_extension": ".py",
   "mimetype": "text/x-python",
   "name": "python",
   "nbconvert_exporter": "python",
   "pygments_lexer": "ipython3",
   "version": "3.12.0"
  }
 },
 "nbformat": 4,
 "nbformat_minor": 2
}
