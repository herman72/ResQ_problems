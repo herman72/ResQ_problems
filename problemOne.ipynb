{
 "cells": [
  {
   "cell_type": "code",
   "execution_count": 3,
   "metadata": {},
   "outputs": [],
   "source": [
    "# import packages\n",
    "\n",
    "import sqlite3\n",
    "import pandas as pd"
   ]
  },
  {
   "cell_type": "code",
   "execution_count": 9,
   "metadata": {},
   "outputs": [],
   "source": [
    "conn = sqlite3.connect('./mock_resq.db')"
   ]
  },
  {
   "cell_type": "code",
   "execution_count": 10,
   "metadata": {},
   "outputs": [],
   "source": [
    "query_orders = \"SELECT * FROM orders\"\n",
    "orders = pd.read_sql_query(query_orders, conn)\n",
    "\n",
    "query_providers = \"SELECT * FROM providers\"\n",
    "providers = pd.read_sql_query(query_providers, conn)\n",
    "\n",
    "query_users = \"SELECT * FROM users\"\n",
    "users = pd.read_sql_query(query_users, conn)"
   ]
  },
  {
   "cell_type": "markdown",
   "metadata": {},
   "source": [
    "# Exploratory data analysis (EDA)\n",
    "- In this section, we examine various aspects of the data to identify duplicates, missing values, and other relevant information"
   ]
  },
  {
   "cell_type": "code",
   "execution_count": 12,
   "metadata": {},
   "outputs": [
    {
     "name": "stdout",
     "output_type": "stream",
     "text": [
      "<class 'pandas.core.frame.DataFrame'>\n",
      "RangeIndex: 299971 entries, 0 to 299970\n",
      "Data columns (total 8 columns):\n",
      " #   Column      Non-Null Count   Dtype \n",
      "---  ------      --------------   ----- \n",
      " 0   id          299971 non-null  int64 \n",
      " 1   createdAt   299971 non-null  object\n",
      " 2   userId      299971 non-null  int64 \n",
      " 3   quantity    299971 non-null  object\n",
      " 4   refunded    299971 non-null  object\n",
      " 5   currency    299971 non-null  object\n",
      " 6   sales       299971 non-null  object\n",
      " 7   providerId  299971 non-null  int64 \n",
      "dtypes: int64(3), object(5)\n",
      "memory usage: 18.3+ MB\n"
     ]
    }
   ],
   "source": [
    "orders.info()"
   ]
  },
  {
   "cell_type": "code",
   "execution_count": 13,
   "metadata": {},
   "outputs": [
    {
     "name": "stdout",
     "output_type": "stream",
     "text": [
      "<class 'pandas.core.frame.DataFrame'>\n",
      "RangeIndex: 4337 entries, 0 to 4336\n",
      "Data columns (total 4 columns):\n",
      " #   Column            Non-Null Count  Dtype \n",
      "---  ------            --------------  ----- \n",
      " 0   id                4337 non-null   int64 \n",
      " 1   defaultOfferType  4337 non-null   object\n",
      " 2   country           4337 non-null   object\n",
      " 3   registeredDate    4337 non-null   object\n",
      "dtypes: int64(1), object(3)\n",
      "memory usage: 135.7+ KB\n"
     ]
    }
   ],
   "source": [
    "providers.info()"
   ]
  },
  {
   "cell_type": "code",
   "execution_count": 14,
   "metadata": {},
   "outputs": [
    {
     "name": "stdout",
     "output_type": "stream",
     "text": [
      "<class 'pandas.core.frame.DataFrame'>\n",
      "RangeIndex: 358366 entries, 0 to 358365\n",
      "Data columns (total 3 columns):\n",
      " #   Column          Non-Null Count   Dtype \n",
      "---  ------          --------------   ----- \n",
      " 0   id              358366 non-null  int64 \n",
      " 1   country         358366 non-null  object\n",
      " 2   registeredDate  358366 non-null  object\n",
      "dtypes: int64(1), object(2)\n",
      "memory usage: 8.2+ MB\n"
     ]
    }
   ],
   "source": [
    "users.info()"
   ]
  },
  {
   "cell_type": "code",
   "execution_count": 15,
   "metadata": {},
   "outputs": [
    {
     "name": "stdout",
     "output_type": "stream",
     "text": [
      "Number of orders duplications: 0\n"
     ]
    }
   ],
   "source": [
    "duplicates = orders[orders.duplicated()]\n",
    "print(\"Number of orders duplications:\", len(duplicates))"
   ]
  },
  {
   "cell_type": "code",
   "execution_count": 16,
   "metadata": {},
   "outputs": [
    {
     "name": "stdout",
     "output_type": "stream",
     "text": [
      "Number of users duplications: 0\n"
     ]
    }
   ],
   "source": [
    "duplicates = users[users.duplicated()]\n",
    "print(\"Number of users duplications:\", len(duplicates))"
   ]
  },
  {
   "cell_type": "code",
   "execution_count": 17,
   "metadata": {},
   "outputs": [
    {
     "name": "stdout",
     "output_type": "stream",
     "text": [
      "Number of providers duplications: 0\n"
     ]
    }
   ],
   "source": [
    "duplicates = providers[providers.duplicated()]\n",
    "print(\"Number of providers duplications:\", len(duplicates))"
   ]
  },
  {
   "cell_type": "code",
   "execution_count": 18,
   "metadata": {},
   "outputs": [
    {
     "data": {
      "text/plain": [
       "id                False\n",
       "country           False\n",
       "registeredDate    False\n",
       "dtype: bool"
      ]
     },
     "execution_count": 18,
     "metadata": {},
     "output_type": "execute_result"
    }
   ],
   "source": [
    "# Check for the missing values\n",
    "users.isnull().any()"
   ]
  },
  {
   "cell_type": "code",
   "execution_count": 19,
   "metadata": {},
   "outputs": [
    {
     "data": {
      "text/plain": [
       "id            False\n",
       "createdAt     False\n",
       "userId        False\n",
       "quantity      False\n",
       "refunded      False\n",
       "currency      False\n",
       "sales         False\n",
       "providerId    False\n",
       "dtype: bool"
      ]
     },
     "execution_count": 19,
     "metadata": {},
     "output_type": "execute_result"
    }
   ],
   "source": [
    "# Check for the missing values\n",
    "orders.isnull().any()"
   ]
  },
  {
   "cell_type": "code",
   "execution_count": 20,
   "metadata": {},
   "outputs": [
    {
     "data": {
      "text/plain": [
       "id                  False\n",
       "defaultOfferType    False\n",
       "country             False\n",
       "registeredDate      False\n",
       "dtype: bool"
      ]
     },
     "execution_count": 20,
     "metadata": {},
     "output_type": "execute_result"
    }
   ],
   "source": [
    "# Check for the missing values\n",
    "providers.isnull().any()"
   ]
  },
  {
   "cell_type": "markdown",
   "metadata": {},
   "source": [
    "We've examined the data in preparation for upcoming analysis, particularly regarding problem two. Fortunately, the data appears to be free of NaNs, missing values, or duplications"
   ]
  },
  {
   "cell_type": "code",
   "execution_count": 26,
   "metadata": {},
   "outputs": [],
   "source": [
    "orders_regDate = pd.merge(orders, users[['id', 'registeredDate']], left_on='userId', right_on='id')\n",
    "orders_regDate = orders_regDate.drop('id_y', axis=1)\n",
    "orders_regDate = orders_regDate.rename(columns={'id_x': 'id'})"
   ]
  },
  {
   "cell_type": "code",
   "execution_count": 29,
   "metadata": {},
   "outputs": [],
   "source": [
    "orders_regDate[\"registeredDate\"] = pd.to_datetime(orders_regDate[\"registeredDate\"])\n",
    "orders_regDate[\"registeredDate\"] = orders_regDate.registeredDate.dt.year"
   ]
  },
  {
   "cell_type": "code",
   "execution_count": 37,
   "metadata": {},
   "outputs": [],
   "source": [
    "orders_regDate_offer = pd.merge(orders_regDate, providers[['id', 'defaultOfferType']], left_on='providerId', right_on='id')\n",
    "orders_regDate_offer = orders_regDate_offer.drop('id_y', axis=1)\n",
    "orders_regDate_offer = orders_regDate_offer.rename(columns={'id_x': 'id'})"
   ]
  },
  {
   "cell_type": "code",
   "execution_count": 39,
   "metadata": {},
   "outputs": [],
   "source": [
    "orders_regDate_offer['createdAt'] = pd.to_datetime(orders_regDate_offer['createdAt'])\n",
    "orders_regDate_offer['year_month'] = orders_regDate_offer['createdAt'].dt.to_period('M')"
   ]
  },
  {
   "cell_type": "code",
   "execution_count": 42,
   "metadata": {},
   "outputs": [],
   "source": [
    "orders_regDate_offer['year_month'] = orders_regDate_offer['year_month'].astype(str)"
   ]
  },
  {
   "cell_type": "code",
   "execution_count": 43,
   "metadata": {},
   "outputs": [],
   "source": [
    "conn = sqlite3.connect('orders_regDate_offer.db')\n",
    "\n",
    "# Write the DataFrame to the database\n",
    "orders_regDate_offer.to_sql('orders_regDate_offer', conn, if_exists='replace')\n",
    "\n",
    "# Close the connection\n",
    "conn.close()"
   ]
  }
 ],
 "metadata": {
  "kernelspec": {
   "display_name": ".venv",
   "language": "python",
   "name": "python3"
  },
  "language_info": {
   "codemirror_mode": {
    "name": "ipython",
    "version": 3
   },
   "file_extension": ".py",
   "mimetype": "text/x-python",
   "name": "python",
   "nbconvert_exporter": "python",
   "pygments_lexer": "ipython3",
   "version": "3.12.0"
  }
 },
 "nbformat": 4,
 "nbformat_minor": 2
}
